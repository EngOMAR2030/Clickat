{
 "cells": [
  {
   "cell_type": "code",
   "execution_count": 2,
   "metadata": {
    "collapsed": true
   },
   "outputs": [],
   "source": [
    "### my Encryption Algorithm \n",
    "## based on { plaintext MOD password = ciphertext} and ciphertext = [remainder & Quotient ]\n",
    "##\n",
    "##"
   ]
  },
  {
   "cell_type": "code",
   "execution_count": 1,
   "metadata": {
    "collapsed": true
   },
   "outputs": [],
   "source": [
    "data = '123456789'"
   ]
  },
  {
   "cell_type": "code",
   "execution_count": 2,
   "metadata": {
    "collapsed": true
   },
   "outputs": [],
   "source": [
    "def encrypt(data, password , chunks=3):\n",
    "    enc = ''\n",
    "    c = len(data)\n",
    "    for i in range(0,c,chunks):\n",
    "        enc1 = divmod(int(data[i:i+chunks]),password)\n",
    "        print 'str1 '+ str(enc1[0])  + ' ===== str2 '+ str(enc1[1])\n",
    "        enc += str(enc1[0]) + str(enc1[1])\n",
    "        i = i + chunks\n",
    "    return enc\n"
   ]
  },
  {
   "cell_type": "code",
   "execution_count": null,
   "metadata": {
    "collapsed": true
   },
   "outputs": [],
   "source": []
  },
  {
   "cell_type": "code",
   "execution_count": 3,
   "metadata": {
    "collapsed": true
   },
   "outputs": [],
   "source": [
    "def decrypt(data, password , chunks=3):\n",
    "    if len(data) % chunks != 0 :\n",
    "        #situation 1\n",
    "        print 'data must be in multiplication of chunks'\n",
    "        return\n",
    "    else:\n",
    "        #situation 2\n",
    "        dec = ''\n",
    "        c = len(data)\n",
    "        for i in range(0,c,chunks):\n",
    "            ch = data[i:i+chunks]\n",
    "            dec_1 = int(ch[0:len(str(password))]) * password + int(ch[-1])\n",
    "            \n",
    "            dec += str(dec_1) \n",
    "    return dec\n",
    "        "
   ]
  },
  {
   "cell_type": "code",
   "execution_count": 4,
   "metadata": {},
   "outputs": [
    {
     "name": "stdout",
     "output_type": "stream",
     "text": [
      "str1 10 ===== str2 3\n",
      "str1 38 ===== str2 0\n",
      "str1 65 ===== str2 9\n"
     ]
    },
    {
     "data": {
      "text/plain": [
       "'103380659'"
      ]
     },
     "execution_count": 4,
     "metadata": {},
     "output_type": "execute_result"
    }
   ],
   "source": [
    "encrypted = encrypt(data,12)\n",
    "encrypted"
   ]
  },
  {
   "cell_type": "code",
   "execution_count": 5,
   "metadata": {},
   "outputs": [
    {
     "data": {
      "text/plain": [
       "'123456789'"
      ]
     },
     "execution_count": 5,
     "metadata": {},
     "output_type": "execute_result"
    }
   ],
   "source": [
    "decrypt(encrypted,12)"
   ]
  },
  {
   "cell_type": "code",
   "execution_count": null,
   "metadata": {
    "collapsed": true
   },
   "outputs": [],
   "source": []
  },
  {
   "cell_type": "code",
   "execution_count": null,
   "metadata": {
    "collapsed": true
   },
   "outputs": [],
   "source": []
  }
 ],
 "metadata": {
  "kernelspec": {
   "display_name": "Python 2",
   "language": "python",
   "name": "python2"
  },
  "language_info": {
   "codemirror_mode": {
    "name": "ipython",
    "version": 2
   },
   "file_extension": ".py",
   "mimetype": "text/x-python",
   "name": "python",
   "nbconvert_exporter": "python",
   "pygments_lexer": "ipython2",
   "version": "2.7.13"
  }
 },
 "nbformat": 4,
 "nbformat_minor": 2
}
